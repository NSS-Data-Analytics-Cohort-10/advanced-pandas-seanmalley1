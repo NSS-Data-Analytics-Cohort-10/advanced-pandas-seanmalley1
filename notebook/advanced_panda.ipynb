{
 "cells": [
  {
   "cell_type": "markdown",
   "id": "08c9e1b9",
   "metadata": {},
   "source": [
    "# Advanced pandas Practice - Nashville City Cemetery\n",
    "\n",
    "In this exercise, you'll get to explore some additional features of the pandas library for cleaning and summarizing data. This will be done using the Nashville City Cemetery data.\n",
    "\n",
    "As a reminder, you can get more information about the data that you were working with here: [Nashville City Cemetery Metadata](https://data.nashville.gov/api/views/diwx-fgj7/files/963c111e-2e2a-4133-a807-2becd590feb2?download=true&filename=Historic-Nashville-City-Cemetery-Interments-1846-1979-Metadata-v2.pdf).\n",
    "\n",
    "1. Read the City Cemetery data into a pandas DataFrame. **Hint:** see the [`read_excel` function](https://pandas.pydata.org/docs/reference/api/pandas.read_excel.html).\n",
    "\n",
    "2. **Most Common Causes of Death.**  \n",
    "   a. Find the 10 most common (known) recorded causes of death.  \n",
    "   b. Clean up some of the misspellings. Use the [`replace` method](https://pandas.pydata.org/docs/reference/api/pandas.DataFrame.replace.html) to clean up some of the causes of death. For example, replace \"Cholrea\" with \"Cholera\" and \"Still Born\" with \"Stillborn\".   \n",
    "   **Bonus (Save For Last):** One method of detecting and correcting misspellings is fuzzy matching using metrics like [Levenshtein distance](https://en.wikipedia.org/wiki/Levenshtein_distance). Check out [thefuzz](https://github.com/seatgeek/thefuzz) a library that implements fuzzy matching and apply it to detect and correct misspellings.  \n",
    "   c. After correcting the spellings, find the 10 most common causes of death and create a bar chart to display your findings.  \n",
    "\n",
    "3. Create a line chart showing the number of burials per year.\n",
    "\n",
    "4. **Burials per Month and Year**  \n",
    "    a. Use the [crosstab function](https://pandas.pydata.org/docs/reference/api/pandas.crosstab.html) to build a summary table showing the number of burials per year per month. You should have one row per year and one column for month.  \n",
    "    b. After creating this summary table, make sure that the year labels are integers (no decimal part) and that the columns are sorted correctly.  \n",
    "    c. Filter your table to show only the years 1846 through 1860.  \n",
    "    **Bonus** Display your table so that highlights any months that had over 100 burials. Hint: Look at styling in pandas: https://pandas.pydata.org/pandas-docs/version/1.0/user_guide/style.html  \n",
    "    d. Go back to your original DataFrame and filter to the year and month that had the largest number of burials. What are the most common causes of death for that month?\n",
    "\n",
    "5. **Burials per Decade**  \n",
    "    a. Create a \"Decade\" column to show the decade in which a burial occurred.    \n",
    "    b. Examine the burials per decade. Look at the total number of burials and the proportion (aka percentage) of male burials and female burials.  \n",
    "    c. Create a clustered bar chart to show how male and female burials have changed over time.\n",
    "\n",
    "### Bonus Questions\n",
    "\n",
    "6. **Burials per Age Group**  \n",
    "    a. Add a column to the original dataset to classify each row to one of the following categories (0-18, 19-25, 26-40, 41-64, and 65+). (Hint: One way to do this is using the [`cut` function](https://pandas.pydata.org/docs/reference/api/pandas.cut.html)).  \n",
    "    b. Create a \"Year Group\" dividing the records up based on burial year. Use the following groups: Before 1880, 1880-1900, 1901-1920, After 1920.  \n",
    "    c. Use a grouped bar chart to show how the proportion of burials per age group has changed over time. How would you describe the trends in terms of proportion of burials per age group over time?\n",
    "\n",
    "7. **Last Names**  \n",
    "    a. Create a new column titled Last Name. Extract the last name from the Name column by subsetting to all characters to the left of the comma. (Hint: See the pandas [string split function](https://pandas.pydata.org/docs/reference/api/pandas.Series.str.split.html). When you do this, make sure to consider cases where the name does not contain a comma.  \n",
    "    b. What are the most common last names that appear?\n",
    "\n",
    "8. The Civil War ended in April, 1865, with the last full year of fighting occurring in 1864.    \n",
    "   a. Create a new DataFrame, burials_1864 by subsetting the full data to the rows for 1864 burials.  \n",
    "   b. For any rows whose name contains the word \"infant\" (capitalized or lowercase), replace the \"Age\" value with 0.   \n",
    "   c. Create a new column called age_category. If the individual was age 0 put \"Infant\". If the individual was not an infant but under age 18, put \"Child\". Everyone aged 18 and above should be listed as \"Adult\".  \n",
    "   d.  Find the mean age for each age group.    \n",
    "   e.  Find the last infant to be buried in 1864. Two ways this could be accomplished are sorting by both the month number and burial day or by creating a date column (for example, by using the [`to_datetime` function](https://pandas.pydata.org/docs/reference/api/pandas.to_datetime.html) and then sorting by this date column."
   ]
  },
  {
   "cell_type": "code",
   "execution_count": 1,
   "id": "26a69c2a",
   "metadata": {},
   "outputs": [],
   "source": [
    "import pandas as pd\n",
    "import matplotlib.pyplot as plt\n",
    "import seaborn as sns"
   ]
  },
  {
   "cell_type": "code",
   "execution_count": 2,
   "id": "868abbaa",
   "metadata": {},
   "outputs": [],
   "source": [
    "# 1 Read into data frame\n",
    "df = pd.read_excel('F:\\\\d10\\\\Projects\\\\advanced-pandas-seanmalley1\\\\data\\\\cemdata.xlsx')\n"
   ]
  },
  {
   "cell_type": "markdown",
   "id": "113abbbb",
   "metadata": {},
   "source": [
    "2. **Most Common Causes of Death.**  \n",
    "   a. Find the 10 most common (known) recorded causes of death.  \n",
    "   b. Clean up some of the misspellings. Use the [`replace` method](https://pandas.pydata.org/docs/reference/api/pandas.DataFrame.replace.html) to clean up some of the causes of death. For example, replace \"Cholrea\" with \"Cholera\" and \"Still Born\" with \"Stillborn\".   \n",
    "   **Bonus (Save For Last):** One method of detecting and correcting misspellings is fuzzy matching using metrics like [Levenshtein distance](https://en.wikipedia.org/wiki/Levenshtein_distance). Check out [thefuzz](https://github.com/seatgeek/thefuzz) a library that implements fuzzy matching and apply it to detect and correct misspellings.  \n",
    "   c. After correcting the spellings, find the 10 most common causes of death and create a bar chart to display your findings. "
   ]
  },
  {
   "cell_type": "code",
   "execution_count": null,
   "id": "246cd808",
   "metadata": {},
   "outputs": [],
   "source": [
    "\n"
   ]
  },
  {
   "cell_type": "code",
   "execution_count": 3,
   "id": "55dd32d5",
   "metadata": {},
   "outputs": [],
   "source": [
    "# 2a need to rename some columns\n",
    "df.rename(columns={'Cause of Death/Burial': 'cause_death'}, inplace=True)\n",
    "# getting a count for each cause_death"
   ]
  },
  {
   "cell_type": "code",
   "execution_count": 4,
   "id": "6d8b85a8",
   "metadata": {},
   "outputs": [
    {
     "data": {
      "text/plain": [
       "cause_death\n",
       "Consumption        1767\n",
       "Unknown            1260\n",
       "Still Born          841\n",
       "Cholrea             667\n",
       "Not Known           639\n",
       "                   ... \n",
       "Fall from Horse       1\n",
       "Tonsilitis            1\n",
       "Diph Croup            1\n",
       "Genl Dibility         1\n",
       "Accidental fall       1\n",
       "Name: count, Length: 2208, dtype: int64"
      ]
     },
     "execution_count": 4,
     "metadata": {},
     "output_type": "execute_result"
    }
   ],
   "source": [
    "df.cause_death.value_counts()"
   ]
  },
  {
   "cell_type": "code",
   "execution_count": 5,
   "id": "cc0ed450",
   "metadata": {},
   "outputs": [
    {
     "name": "stdout",
     "output_type": "stream",
     "text": [
      "cause_death\n",
      "Consumption     1767\n",
      "Unknown         1260\n",
      "Still Born       841\n",
      "Cholrea          667\n",
      "Not Known        639\n",
      "Old Age          604\n",
      "Cholera          575\n",
      "Pneumonia        516\n",
      "Flux             469\n",
      "Complication     446\n",
      "Name: count, dtype: int64\n"
     ]
    }
   ],
   "source": [
    "#2a Answer selecting the top 10 causes of death and putting them in a new data frame\n",
    "top10_cause_death = df['cause_death'].value_counts().nlargest(10)\n",
    "print(top10_cause_death)"
   ]
  },
  {
   "cell_type": "markdown",
   "id": "9b25e43d",
   "metadata": {},
   "source": [
    "#2b:  b. Clean up some of the misspellings. Use the [`replace` method](https://pandas.pydata.org/docs/reference/api/pandas.DataFrame.replace.html) to clean up some of the causes of death. For example, replace \"Cholrea\" with \"Cholera\" and \"Still Born\" with \"Stillborn\".   \n",
    "   **Bonus (Save For Last):** One method of detecting and correcting misspellings is fuzzy matching using metrics like [Levenshtein distance](https://en.wikipedia.org/wiki/Levenshtein_distance). Check out [thefuzz](https://github.com/seatgeek/thefuzz) a library that implements fuzzy matching and apply it to detect and correct misspellings."
   ]
  },
  {
   "cell_type": "code",
   "execution_count": 6,
   "id": "2e005590",
   "metadata": {},
   "outputs": [
    {
     "name": "stdout",
     "output_type": "stream",
     "text": [
      "cause_death\n",
      "Consumption        1767\n",
      "Unknown            1260\n",
      "Still Born          841\n",
      "Cholrea             667\n",
      "Not Known           639\n",
      "                   ... \n",
      "Fall from Horse       1\n",
      "Tonsilitis            1\n",
      "Diph Croup            1\n",
      "Genl Dibility         1\n",
      "Accidental fall       1\n",
      "Name: count, Length: 2208, dtype: int64\n"
     ]
    }
   ],
   "source": [
    "cause_counts = df['cause_death'].value_counts()\n",
    "print(cause_counts)\n",
    "# this only gives me head and tail. to show the full list, I will use\n",
    "pd.set_option('display.max_rows', None)"
   ]
  },
  {
   "cell_type": "code",
   "execution_count": 7,
   "id": "3a398b39",
   "metadata": {},
   "outputs": [
    {
     "name": "stdout",
     "output_type": "stream",
     "text": [
      "cause_death\n",
      "Consumption     1767\n",
      "Unknown         1260\n",
      "Still Born       841\n",
      "Cholrea          667\n",
      "Not Known        639\n",
      "Old Age          604\n",
      "Cholera          575\n",
      "Pneumonia        516\n",
      "Flux             469\n",
      "Complication     446\n",
      "Name: count, dtype: int64\n"
     ]
    }
   ],
   "source": [
    "#2b, fixing those spelling\n",
    "\n",
    "fixed_spellings = {\n",
    "    'Cholrea':'Cholera',\n",
    "    'Not Known':'Unknown',\n",
    "    'Teethin' :'Teething',\n",
    "    'Feever':'Fever',\n",
    "    'Complicated':'Complication',\n",
    "    'Stil Born' :'Still Born',\n",
    "    'Measels':'Measles',\n",
    "    'Dropsey':'Dropsy',\n",
    "    'Hooping Cough':'Whooping Cough',\n",
    "    'Stillborn':'Still Born',\n",
    "    'Diarrhaea':'Diarrhea',\n",
    "    'Still Bornd':'Still Born'\n",
    "}\n",
    "df['cause_death'] = df['cause_death'].replace(fixed_spellings, regex=False)\n",
    "print(top10_cause_death)"
   ]
  },
  {
   "cell_type": "code",
   "execution_count": 8,
   "id": "67b49ab9",
   "metadata": {},
   "outputs": [
    {
     "name": "stdout",
     "output_type": "stream",
     "text": [
      "cause_death\n",
      "Consumption     1767\n",
      "Unknown         1260\n",
      "Still Born       841\n",
      "Cholrea          667\n",
      "Not Known        639\n",
      "Old Age          604\n",
      "Cholera          575\n",
      "Pneumonia        516\n",
      "Flux             469\n",
      "Complication     446\n",
      "Name: count, dtype: int64\n"
     ]
    }
   ],
   "source": [
    "replacements = {\n",
    "    'Cholrea': 'Cholera',\n",
    "    'Not Known': 'Unknown',\n",
    "    'Feever': 'Fever',\n",
    "    'Complicated': 'Complication',\n",
    "    'Stil Born': 'Still Born',\n",
    "    'Measels': 'Measles',\n",
    "    'Dropsey': 'Dropsy',\n",
    "    'Hooping Cough': 'Whooping Cough',\n",
    "    'Stillborn': 'Still Born',\n",
    "    'Diarrhaea': 'Diarrhea',\n",
    "    'Still Bornd': 'Still Born'\n",
    "}\n",
    "df['cause_death'] = df['cause_death'].replace(replacements)\n",
    "print(top10_cause_death)\n"
   ]
  },
  {
   "cell_type": "markdown",
   "id": "c36ec5cb",
   "metadata": {},
   "source": [
    " c. After correcting the spellings, find the 10 most common causes of death and create a bar chart to display your findings."
   ]
  },
  {
   "cell_type": "code",
   "execution_count": 9,
   "id": "fbc000b1",
   "metadata": {},
   "outputs": [
    {
     "data": {
      "text/plain": [
       "<Axes: xlabel='cause_death'>"
      ]
     },
     "execution_count": 9,
     "metadata": {},
     "output_type": "execute_result"
    },
    {
     "data": {
      "image/png": "[encoded data removed]",
      "text/plain": [
       "<Figure size 640x480 with 1 Axes>"
      ]
     },
     "metadata": {},
     "output_type": "display_data"
    }
   ],
   "source": [
    "top10_cause_death.plot(kind='bar', color='red')"
   ]
  },
  {
   "cell_type": "markdown",
   "id": "0324fa77",
   "metadata": {},
   "source": [
    "3. Create a line chart showing the number of burials per year."
   ]
  },
  {
   "cell_type": "code",
   "execution_count": 10,
   "id": "614228cf",
   "metadata": {},
   "outputs": [
    {
     "data": {
      "text/plain": [
       "Text(0, 0.5, 'Number of Burials')"
      ]
     },
     "execution_count": 10,
     "metadata": {},
     "output_type": "execute_result"
    },
    {
     "data": {
      "image/png": "[encoded data removed]",
      "text/plain": [
       "<Figure size 640x480 with 1 Axes>"
      ]
     },
     "metadata": {},
     "output_type": "display_data"
    }
   ],
   "source": [
    "#df.head()\n",
    "# group burials per year and make a dataframe for it\n",
    "burials_per_year = df.groupby('Burial Year').size()\n",
    "#Making the line graph\n",
    "burials_per_year.plot(kind='line', marker='o')\n",
    "plt.title('Number of Burials Per Year')\n",
    "plt.xlabel('Year')\n",
    "plt.ylabel('Number of Burials')"
   ]
  },
  {
   "cell_type": "markdown",
   "id": "658491d5",
   "metadata": {},
   "source": [
    "4.. **Burials per Month and Year**  \n",
    "    a. Use the [crosstab function](https://pandas.pydata.org/docs/reference/api/pandas.crosstab.html) to build a summary table showing the number of burials per year per month. You should have one row per year and one column for month.  \n",
    "    b. After creating this summary table, make sure that the year labels are integers (no decimal part) and that the columns are sorted correctly.  \n",
    "    c. Filter your table to show only the years 1846 through 1860.  b"
   ]
  },
  {
   "cell_type": "code",
   "execution_count": 11,
   "id": "92055660",
   "metadata": {},
   "outputs": [
    {
     "name": "stdout",
     "output_type": "stream",
     "text": [
      "Burial Month  Apr  Aug  Dec  Feb  Jan  Jul  Jun  Mar  May  Nov  Oct  Sep\n",
      "Burial Year                                                             \n",
      "0               2    0    0    0    0    0    0    0    0    0    0    0\n",
      "1846           22    0   30   26   20    0    0   25   26   23   39   35\n",
      "1847           35   61   34   34   43   40   47   38   26   36   47   35\n",
      "1848           37   39   27   36   36   65   47   49   41   21   26   23\n",
      "1849           43   36   33   64   46   96  231   64   62   24   18   28\n",
      "1850           29   52   31   26   24  370  120   43   37   28   27   22\n",
      "1851           29   35   37   31   26   49   37   27   26   14   42   32\n",
      "1852           37   54   36   32   37   76   84   39   58   36   32   31\n",
      "1853           31   32   31   39   35   47   54   35   36   28   27   34\n",
      "1854           43   44   30   33   35   95  137   34   61   25   25   34\n",
      "1855           34   42   38   22   30   75   58   20   38   32   33   54\n",
      "1856           33   37   28   34   29   51   42   30   35   28   43   38\n",
      "1857           34   35   34   34   31   36   37   34   34   23   32   38\n",
      "1858           37   47   42   28   38   43   28   34   34   29   34   21\n",
      "1859           35   35   33   61   41   42   53   36   42   35   34   35\n",
      "1860           38   49   44   35   41   64   64   35   53   39   51   62\n",
      "1861           37   51   35   41   43   50   30   38   30   35   31   34\n",
      "1862           47   29   75   42   41   35   65   67   44   77   61   44\n",
      "1863           77   69   71   53   57   91   86   76   75   44   68   69\n",
      "1864          135  149   86  104   97  154  141  154  110   74   69   99\n",
      "1865          114   84  101   85  121  153  142  138  121   94  115   98\n",
      "1866           76   89   64  101  108   69   64   92   62   48  140  441\n",
      "1867           44   52   43   41   46   48   51   60   37   32   44   44\n",
      "1868           32   45   29   44   54   71   50   62   31   24   29   33\n",
      "1869           22    4   23   16   17   15   18   21    7   19   21   26\n",
      "1870           20   44   19   20   31   37   28   31   26   15   19   22\n",
      "1871           25   24   19   14   21   23   31   31   16   18   33   30\n",
      "1872           29   28   25   17   27   29   23   23   18   18   19   27\n",
      "1873           40   27   21   14   21   71  242   38   17   15   28   25\n",
      "1874           40   30    7   20   21   44   46   27   32   12   25   33\n",
      "1875           11   17    4   11   12   18   14   17   10    8   18   19\n",
      "1876           20   17    8   11    5    8   14   15    8   14   15   13\n",
      "1877           17   14    8    9   11   15   22   14    8    4   16   17\n",
      "1878            8   11    9   12    7   19   12    9    9    6    7    9\n",
      "1879           11   11   22    7    9   10   12   11    7   13   12   13\n",
      "1880           23   16   18   20   13   31   21    9   13   16   10   14\n",
      "1881           20   10    7   11   27   11   11   15   23    8    9    4\n",
      "1882           16    7    5    7    5   10   11   14   11    8    8    8\n",
      "1883           16   13   11    5    9   14    7   10   16   10    5   12\n",
      "1884           11   12    3    4    8    8   11   12    2    7   12    9\n",
      "1885            8    0    0    7   10    0    0   10    6    0    1    1\n",
      "1886            5    6    7    6    0   10    1    1    3    8    9    6\n",
      "1887            3   12    2    6    5   12    6    9    1    4    3    4\n",
      "1888            7    4    3    1    1    9    3    1    2    7    5    6\n",
      "1889            3    4    5    6    0    3    5    5   10    0    0    9\n",
      "1890            4    6    8    3    2    3    2    4    2    5    5    2\n",
      "1891            7    5    9    2    4    2    6    7    3    1    8    4\n",
      "1892            9    4    5    2    5    7    4    0    3    2    2    5\n",
      "1893            1    4    4    5    3    6    7    7    2    2    5    5\n",
      "1894            8    2   10    1    8    1    3    8    8    1    5    0\n",
      "1895            3    3    2    5    4    8    2    3    7    3    4    3\n",
      "1896            2    5    1    2    6    4    5    4    2    4    2    5\n",
      "1897            3    6    2    4    5    8    7    3    5    3    1    5\n",
      "1898            0    1    2    5    3    1    2    2    9    5    4    3\n",
      "1899            7    9    4    2    2    4    1    8    4    1    7    4\n",
      "1900            4    3    2    5    4    4    3    4    0    3    2    2\n",
      "1901            5    2    2    2    2    5    1    5    2    2    2    6\n",
      "1902            3    7    3    4    1    4    3    3    3    2    3    1\n",
      "1903            1    2    6    1    8    3    2    6    1    5    1    4\n",
      "1904            6    1    3    7    6    2    3    3    0    2    5    3\n",
      "1905            0    1    1    2    4    6    3    1    2    3    1    2\n",
      "1906            3    4    4    3    3    1    1    0    5    3    2    2\n",
      "1907            0    2    1    3    1    3    2    2    2    1    0    1\n",
      "1908            1    3    3    7    2    2    2    3    4    0    6    2\n",
      "1909            1    4    6    2    3    5    2    0    1    1    2    2\n",
      "1910            2    4    2    2    4    2    2    2    2    1    4    1\n",
      "1911            2    1    4    2    3    2    5    6    3    0    3    4\n",
      "1912            1    2    1    1    2    1    0    2    3    2    4    3\n",
      "1913            0    0    1    3    1    3    1    3    4    1    0    2\n",
      "1914            3    2    2    2    1    2    2    5    4    3    1    3\n",
      "1915            3    2    4    1    2    4    1    3    1    2    3    3\n",
      "1916            1    3    3    1    0    2    4    5    1    2    2    1\n",
      "1917            1    1    0    2    1    1    1    1    2    2    2    0\n",
      "1918            2    5    2    2    1    2    1    2    3    1    1    2\n",
      "1919            1    1    1    0    1    2    2    3    3    2    0    2\n",
      "1920            1    1    1    1    1    1    1    3    1    0    0    1\n",
      "1921            3    0    1    1    0    3    0    1    0    1    2    1\n",
      "1922            2    3    1    3    2    1    1    5    1    2    1    2\n",
      "1923            4    1    1    2    0    0    1    2    2    4    0    1\n",
      "1924            3    4    1    4    3    1    1    0    0    2    1    2\n",
      "1925            2    0    0    0    0    2    2    4    3    0    1    0\n",
      "1926            0    2    0    1    5    2    3    3    1    0    1    1\n",
      "1927            0    1    1    0    2    1    0    1    1    1    2    0\n",
      "1928            1    0    2    0    1    2    4    1    3    0    2    0\n",
      "1929            2    1    5    3    0    2    2    5    2    1    2    3\n",
      "1930            1    1    0    0    2    1    1    2    1    0    1    2\n",
      "1931            2    4    0    3    2    0    3    1    0    0    1    0\n",
      "1932            1    1    2    1    0    3    0    3    4    0    2    2\n",
      "1933            2    2    1    0    3    3    1    1    0    1    0    0\n",
      "1934            1    1    2    1    3    3    0    4    1    0    3    3\n",
      "1935            0    2    2    0    0    1    0    2    2    5    0    3\n",
      "1936            2    0    0    1    0    0    2    0    1    1    2    1\n",
      "1937            3    2    0    1    0    1    2    1    2    1    0    0\n",
      "1938            1    1    0    0    0    2    0    3    0    2    2    1\n",
      "1939            2    0    1    0    1    0    0    0    0    1    1    1\n",
      "1940            1    0    2    3    1    2    0    0    0    0    2    0\n",
      "1941            2    0    0    1    1    0    1    1    0    2    2    0\n",
      "1942            0    0    0    1    0    0    1    0    0    0    0    2\n",
      "1943            0    2    0    1    1    1    2    0    0    1    1    1\n",
      "1944            1    0    0    3    1    0    0    3    1    0    0    2\n",
      "1945            0    1    1    0    1    0    1    0    1    3    0    0\n",
      "1946            2    0    0    1    1    1    1    1    2    0    0    2\n",
      "1947            3    2    0    1    0    0    0    0    0    1    0    0\n",
      "1948            1    0    0    1    0    0    1    0    0    0    1    0\n",
      "1949            0    0    0    0    1    1    0    0    0    1    0    0\n",
      "1950            1    0    0    0    0    0    0    1    0    2    0    0\n",
      "1951            0    0    0    0    0    1    1    0    1    0    0    2\n",
      "1952            0    0    1    1    0    0    0    0    0    0    0    0\n",
      "1953            1    0    0    0    0    0    0    0    0    1    1    0\n",
      "1954            0    0    0    1    0    0    0    0    0    0    0    0\n",
      "1955            0    0    1    2    0    0    0    0    0    1    0    0\n",
      "1956            0    0    0    0    1    0    1    0    0    0    0    0\n",
      "1957            0    0    0    1    0    0    1    0    0    0    0    0\n",
      "1958            0    0    1    0    0    0    1    0    0    1    0    0\n",
      "1959            0    0    0    0    0    0    0    1    0    0    0    0\n",
      "1960            0    0    0    1    1    0    0    0    0    2    0    0\n",
      "1961            0    0    0    0    0    0    0    1    0    0    0    0\n",
      "1962            0    0    1    0    0    0    0    2    0    1    0    0\n",
      "1964            0    0    0    0    0    0    0    0    0    2    0    0\n",
      "1966            2    0    0    0    0    0    0    0    0    0    0    0\n",
      "1968            0    0    0    1    0    0    0    0    0    0    0    0\n",
      "1969            0    0    0    0    0    0    0    0    0    0    1    0\n",
      "1970            1    0    0    0    0    0    0    0    0    0    0    0\n",
      "1971            0    0    0    0    0    0    2    0    0    0    0    0\n",
      "1972            1    0    0    0    0    0    0    0    0    0    0    0\n",
      "1974            0    0    0    0    0    0    0    0    0    1    0    0\n",
      "1977            0    0    0    0    0    0    0    1    1    1    0    0\n",
      "1978            0    2    0    0    0    0    0    0    0    0    0    0\n",
      "1979            0    1    0    0    0    0    0    0    1    0    0    1\n"
     ]
    }
   ],
   "source": [
    "# 4A Crosstab\n",
    "df['Burial Year'] = pd.to_numeric(df['Burial Year'], errors='coerce')\n",
    "df['Burial Year'] = df['Burial Year'].fillna(0).astype(int)\n",
    "df['Burial Year'] = df['Burial Year'].astype(int)\n",
    "burial_summary_table = pd.crosstab(df['Burial Year'], df['Burial Month'])\n",
    "\n",
    "print(burial_summary_table)\n"
   ]
  },
  {
   "cell_type": "code",
   "execution_count": 12,
   "id": "7331bc78",
   "metadata": {},
   "outputs": [
    {
     "name": "stdout",
     "output_type": "stream",
     "text": [
      "Burial Month  Apr  Aug  Dec  Feb  Jan  Jul  Jun  Mar  May  Nov  Oct  Sep\n",
      "Burial Year                                                             \n",
      "1846           22    0   30   26   20    0    0   25   26   23   39   35\n",
      "1847           35   61   34   34   43   40   47   38   26   36   47   35\n",
      "1848           37   39   27   36   36   65   47   49   41   21   26   23\n",
      "1849           43   36   33   64   46   96  231   64   62   24   18   28\n",
      "1850           29   52   31   26   24  370  120   43   37   28   27   22\n",
      "1851           29   35   37   31   26   49   37   27   26   14   42   32\n",
      "1852           37   54   36   32   37   76   84   39   58   36   32   31\n",
      "1853           31   32   31   39   35   47   54   35   36   28   27   34\n",
      "1854           43   44   30   33   35   95  137   34   61   25   25   34\n",
      "1855           34   42   38   22   30   75   58   20   38   32   33   54\n",
      "1856           33   37   28   34   29   51   42   30   35   28   43   38\n",
      "1857           34   35   34   34   31   36   37   34   34   23   32   38\n",
      "1858           37   47   42   28   38   43   28   34   34   29   34   21\n",
      "1859           35   35   33   61   41   42   53   36   42   35   34   35\n",
      "1860           38   49   44   35   41   64   64   35   53   39   51   62\n"
     ]
    }
   ],
   "source": [
    "filtered_year_1846_to_1860 = df[(df['Burial Year'] >= 1846) & (df['Burial Year'] <= 1860)]\n",
    "\n",
    "burial_summary_table = pd.crosstab(filtered_year_1846_to_1860['Burial Year'], filtered_year_1846_to_1860['Burial Month'])\n",
    "\n",
    "print(burial_summary_table)\n"
   ]
  },
  {
   "cell_type": "markdown",
   "id": "764fa7f5",
   "metadata": {},
   "source": [
    "#4D  Go back to your original DataFrame and filter to the year and month that had the largest number of burials. What are the most common causes of death for that month?"
   ]
  },
  {
   "cell_type": "code",
   "execution_count": 23,
   "id": "fbe42a98",
   "metadata": {},
   "outputs": [
    {
     "name": "stdout",
     "output_type": "stream",
     "text": [
      "(1866, 'Sep')\n",
      "cause_death\n",
      "Cholera          327\n",
      "Flux              11\n",
      "Consumption       11\n",
      "Unknown            9\n",
      "Diarrhea           9\n",
      "Teething           8\n",
      "Old Age            6\n",
      "Still Born         5\n",
      "Typhoid Fever      4\n",
      "Inf of Bowls       3\n",
      "Name: count, dtype: int64\n"
     ]
    }
   ],
   "source": [
    "# Not sure how to extract the month numbers from the burial summary table, so I'm going to start from scratch\n",
    "#count the number of entries by year and month\n",
    "burials_year_by_month = df.groupby(['Burial Year', 'Burial Month']).size()\n",
    "#get the maximum, which im hoping will be july, 1850 -- nevermind, july 1850 was only within the '46 to '60 from earlier.\n",
    "max_burials_year_by_month = burials_year_by_month.idxmax()\n",
    "print(max_burials_year_by_month)\n",
    "#1866, Sep\n",
    "# now find most common cause of death. \n",
    "# first I'm going to make a new dataframe for only this month \n",
    "# --- forgot, I think I need to make these integers. Not sure if this is why its not showing me anything\n",
    "# ran into the same problem as earlier, need to account for NANs -- this worked.\n",
    "df['Burial Year'] = df['Burial Year'].fillna(0).astype(int)\n",
    "df['Month No.'] = df['Month No.'].fillna(0).astype(int)\n",
    "df['Burial Year'] = df['Burial Year'].astype(int)\n",
    "df['Month No.'] = df['Month No.'].astype(int)\n",
    "Sep1866 = df[(df['Burial Year'] == 1866) & (df['Month No.'] == 9)]\n",
    "#Sep1866.head()\n",
    "# now to use the top10 causes of death code from above on this new dataframe\n",
    "top10_cause_death_Sep1866 = Sep1866['cause_death'].value_counts().nlargest(10)\n",
    "print(top10_cause_death_Sep1866)\n",
    "#Top causes of death are unsuprising. Cholera really got em."
   ]
  },
  {
   "cell_type": "markdown",
   "id": "16775bfe",
   "metadata": {},
   "source": [
    "5. Burials per Decade\n",
    "a. Create a \"Decade\" column to show the decade in which a burial occurred.\n",
    "b. Examine the burials per decade. Look at the total number of burials and the proportion (aka percentage) of male burials and female burials.\n",
    "c. Create a clustered bar chart to show how male and female burials have changed over time."
   ]
  }
 ],
 "metadata": {
  "kernelspec": {
   "display_name": "Python 3 (ipykernel)",
   "language": "python",
   "name": "python3"
  },
  "language_info": {
   "codemirror_mode": {
    "name": "ipython",
    "version": 3
   },
   "file_extension": ".py",
   "mimetype": "text/x-python",
   "name": "python",
   "nbconvert_exporter": "python",
   "pygments_lexer": "ipython3",
   "version": "3.11.5"
  }
 },
 "nbformat": 4,
 "nbformat_minor": 5
}
