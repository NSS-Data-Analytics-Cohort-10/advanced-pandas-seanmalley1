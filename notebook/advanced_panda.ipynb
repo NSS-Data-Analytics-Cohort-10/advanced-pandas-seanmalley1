{
 "cells": [
  {
   "cell_type": "markdown",
   "id": "e9c713a9",
   "metadata": {},
   "source": [
    "# Advanced pandas Practice - Nashville City Cemetery\n",
    "\n",
    "In this exercise, you'll get to explore some additional features of the pandas library for cleaning and summarizing data. This will be done using the Nashville City Cemetery data.\n",
    "\n",
    "As a reminder, you can get more information about the data that you were working with here: [Nashville City Cemetery Metadata](https://data.nashville.gov/api/views/diwx-fgj7/files/963c111e-2e2a-4133-a807-2becd590feb2?download=true&filename=Historic-Nashville-City-Cemetery-Interments-1846-1979-Metadata-v2.pdf).\n",
    "\n",
    "1. Read the City Cemetery data into a pandas DataFrame. **Hint:** see the [`read_excel` function](https://pandas.pydata.org/docs/reference/api/pandas.read_excel.html).\n",
    "\n",
    "2. **Most Common Causes of Death.**  \n",
    "   a. Find the 10 most common (known) recorded causes of death.  \n",
    "   b. Clean up some of the misspellings. Use the [`replace` method](https://pandas.pydata.org/docs/reference/api/pandas.DataFrame.replace.html) to clean up some of the causes of death. For example, replace \"Cholrea\" with \"Cholera\" and \"Still Born\" with \"Stillborn\".   \n",
    "   **Bonus (Save For Last):** One method of detecting and correcting misspellings is fuzzy matching using metrics like [Levenshtein distance](https://en.wikipedia.org/wiki/Levenshtein_distance). Check out [thefuzz](https://github.com/seatgeek/thefuzz) a library that implements fuzzy matching and apply it to detect and correct misspellings.  \n",
    "   c. After correcting the spellings, find the 10 most common causes of death and create a bar chart to display your findings.  \n",
    "\n",
    "3. Create a line chart showing the number of burials per year.\n",
    "\n",
    "4. **Burials per Month and Year**  \n",
    "    a. Use the [crosstab function](https://pandas.pydata.org/docs/reference/api/pandas.crosstab.html) to build a summary table showing the number of burials per year per month. You should have one row per year and one column for month.  \n",
    "    b. After creating this summary table, make sure that the year labels are integers (no decimal part) and that the columns are sorted correctly.  \n",
    "    c. Filter your table to show only the years 1846 through 1860.  \n",
    "    **Bonus** Display your table so that highlights any months that had over 100 burials. Hint: Look at styling in pandas: https://pandas.pydata.org/pandas-docs/version/1.0/user_guide/style.html  \n",
    "    d. Go back to your original DataFrame and filter to the year and month that had the largest number of burials. What are the most common causes of death for that month?\n",
    "\n",
    "5. **Burials per Decade**  \n",
    "    a. Create a \"Decade\" column to show the decade in which a burial occurred.    \n",
    "    b. Examine the burials per decade. Look at the total number of burials and the proportion (aka percentage) of male burials and female burials.  \n",
    "    c. Create a clustered bar chart to show how male and female burials have changed over time.\n",
    "\n",
    "### Bonus Questions\n",
    "\n",
    "6. **Burials per Age Group**  \n",
    "    a. Add a column to the original dataset to classify each row to one of the following categories (0-18, 19-25, 26-40, 41-64, and 65+). (Hint: One way to do this is using the [`cut` function](https://pandas.pydata.org/docs/reference/api/pandas.cut.html)).  \n",
    "    b. Create a \"Year Group\" dividing the records up based on burial year. Use the following groups: Before 1880, 1880-1900, 1901-1920, After 1920.  \n",
    "    c. Use a grouped bar chart to show how the proportion of burials per age group has changed over time. How would you describe the trends in terms of proportion of burials per age group over time?\n",
    "\n",
    "7. **Last Names**  \n",
    "    a. Create a new column titled Last Name. Extract the last name from the Name column by subsetting to all characters to the left of the comma. (Hint: See the pandas [string split function](https://pandas.pydata.org/docs/reference/api/pandas.Series.str.split.html). When you do this, make sure to consider cases where the name does not contain a comma.  \n",
    "    b. What are the most common last names that appear?\n",
    "\n",
    "8. The Civil War ended in April, 1865, with the last full year of fighting occurring in 1864.    \n",
    "   a. Create a new DataFrame, burials_1864 by subsetting the full data to the rows for 1864 burials.  \n",
    "   b. For any rows whose name contains the word \"infant\" (capitalized or lowercase), replace the \"Age\" value with 0.   \n",
    "   c. Create a new column called age_category. If the individual was age 0 put \"Infant\". If the individual was not an infant but under age 18, put \"Child\". Everyone aged 18 and above should be listed as \"Adult\".  \n",
    "   d.  Find the mean age for each age group.    \n",
    "   e.  Find the last infant to be buried in 1864. Two ways this could be accomplished are sorting by both the month number and burial day or by creating a date column (for example, by using the [`to_datetime` function](https://pandas.pydata.org/docs/reference/api/pandas.to_datetime.html) and then sorting by this date column."
   ]
  },
  {
   "cell_type": "code",
   "execution_count": 1,
   "id": "9582f61a",
   "metadata": {},
   "outputs": [],
   "source": [
    "import pandas as pd\n",
    "import matplotlib.pyplot as plt\n",
    "import seaborn as sns"
   ]
  },
  {
   "cell_type": "code",
   "execution_count": 28,
   "id": "324535e6",
   "metadata": {},
   "outputs": [],
   "source": [
    "# 1 Read into data frame\n",
    "df = pd.read_excel('F:\\\\d10\\\\Projects\\\\advanced-pandas-seanmalley1\\\\data\\\\cemdata.xlsx')\n",
    "#df = pd.read_excel(\"PATH\\FileName.xlsx\", sheet_name=0)"
   ]
  },
  {
   "cell_type": "code",
   "execution_count": null,
   "id": "991f8336",
   "metadata": {},
   "outputs": [],
   "source": []
  }
 ],
 "metadata": {
  "kernelspec": {
   "display_name": "Python 3 (ipykernel)",
   "language": "python",
   "name": "python3"
  },
  "language_info": {
   "codemirror_mode": {
    "name": "ipython",
    "version": 3
   },
   "file_extension": ".py",
   "mimetype": "text/x-python",
   "name": "python",
   "nbconvert_exporter": "python",
   "pygments_lexer": "ipython3",
   "version": "3.11.5"
  }
 },
 "nbformat": 4,
 "nbformat_minor": 5
}
